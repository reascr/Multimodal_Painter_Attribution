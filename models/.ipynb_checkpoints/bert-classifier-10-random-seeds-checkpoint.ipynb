{
 "cells": [
  {
   "cell_type": "markdown",
   "metadata": {
    "_cell_guid": "b1076dfc-b9ad-4769-8c92-a6c4dae69d19",
    "_uuid": "8f2839f25d086af736a60e9eeb907d3b93b6e0e5"
   },
   "source": [
    "### Train a BERT Classifier \n",
    "Code is based on https://github.com/theartificialguy/NLP-with-Deep-Learning/blob/master/BERT/Multi-Class%20classification%20TF-BERT/multi_class.ipynb and https://github.com/reascr/MA_Speech_and_Language_Processing/blob/main/Deep_Learning_with_Python/DeepLearning2022-Project.ipynb (De Rosa Palmini & Schröter 2022)."
   ]
  },
  {
   "cell_type": "code",
   "execution_count": 1,
   "metadata": {
    "execution": {
     "iopub.execute_input": "2024-05-28T14:17:40.553314Z",
     "iopub.status.busy": "2024-05-28T14:17:40.552654Z",
     "iopub.status.idle": "2024-05-28T14:17:47.135647Z",
     "shell.execute_reply": "2024-05-28T14:17:47.134832Z",
     "shell.execute_reply.started": "2024-05-28T14:17:40.553275Z"
    }
   },
   "outputs": [
    {
     "name": "stderr",
     "output_type": "stream",
     "text": [
      "2024-05-28 14:17:43.645312: E external/local_xla/xla/stream_executor/cuda/cuda_dnn.cc:9261] Unable to register cuDNN factory: Attempting to register factory for plugin cuDNN when one has already been registered\n",
      "2024-05-28 14:17:43.645368: E external/local_xla/xla/stream_executor/cuda/cuda_fft.cc:607] Unable to register cuFFT factory: Attempting to register factory for plugin cuFFT when one has already been registered\n",
      "2024-05-28 14:17:43.646889: E external/local_xla/xla/stream_executor/cuda/cuda_blas.cc:1515] Unable to register cuBLAS factory: Attempting to register factory for plugin cuBLAS when one has already been registered\n"
     ]
    }
   ],
   "source": [
    "#pip install -U sentence-transformers\n",
    "from transformers import BertTokenizer\n",
    "from transformers import TFBertModel\n",
    "import pandas as pd\n",
    "import numpy as np\n",
    "from tqdm import tqdm\n",
    "from sklearn.preprocessing import LabelEncoder\n",
    "from sklearn.metrics import confusion_matrix\n",
    "import matplotlib.pyplot as plt\n",
    "import seaborn as sns\n",
    "\n",
    "tokenizer = BertTokenizer.from_pretrained('bert-base-uncased')"
   ]
  },
  {
   "cell_type": "code",
   "execution_count": 2,
   "metadata": {
    "execution": {
     "iopub.execute_input": "2024-05-28T14:17:47.137944Z",
     "iopub.status.busy": "2024-05-28T14:17:47.137468Z",
     "iopub.status.idle": "2024-05-28T14:17:47.147102Z",
     "shell.execute_reply": "2024-05-28T14:17:47.146231Z",
     "shell.execute_reply.started": "2024-05-28T14:17:47.137917Z"
    }
   },
   "outputs": [
    {
     "name": "stdout",
     "output_type": "stream",
     "text": [
      "['train_bal.csv', 'val_bal.csv', 'test_bal.csv']\n"
     ]
    }
   ],
   "source": [
    "import os\n",
    "print(os.listdir(\"../input\"))"
   ]
  },
  {
   "cell_type": "code",
   "execution_count": 3,
   "metadata": {
    "execution": {
     "iopub.execute_input": "2024-05-28T14:17:47.148921Z",
     "iopub.status.busy": "2024-05-28T14:17:47.148656Z",
     "iopub.status.idle": "2024-05-28T14:17:47.190119Z",
     "shell.execute_reply": "2024-05-28T14:17:47.189211Z",
     "shell.execute_reply.started": "2024-05-28T14:17:47.148898Z"
    }
   },
   "outputs": [
    {
     "data": {
      "text/html": [
       "<div>\n",
       "<style scoped>\n",
       "    .dataframe tbody tr th:only-of-type {\n",
       "        vertical-align: middle;\n",
       "    }\n",
       "\n",
       "    .dataframe tbody tr th {\n",
       "        vertical-align: top;\n",
       "    }\n",
       "\n",
       "    .dataframe thead th {\n",
       "        text-align: right;\n",
       "    }\n",
       "</style>\n",
       "<table border=\"1\" class=\"dataframe\">\n",
       "  <thead>\n",
       "    <tr style=\"text-align: right;\">\n",
       "      <th></th>\n",
       "      <th>IMAGE_FILE</th>\n",
       "      <th>DESCRIPTION</th>\n",
       "      <th>AUTHOR</th>\n",
       "      <th>comment_length</th>\n",
       "    </tr>\n",
       "  </thead>\n",
       "  <tbody>\n",
       "    <tr>\n",
       "      <th>0</th>\n",
       "      <td>16346-virtu_4.jpg</td>\n",
       "      <td>The figures of Justice and Injustice are large...</td>\n",
       "      <td>GIOTTO di Bondone</td>\n",
       "      <td>348</td>\n",
       "    </tr>\n",
       "    <tr>\n",
       "      <th>1</th>\n",
       "      <td>16980-2hague03.jpg</td>\n",
       "      <td>Catalogue numbers: F 4, JH 187.In the years 18...</td>\n",
       "      <td>GOGH, Vincent van</td>\n",
       "      <td>314</td>\n",
       "    </tr>\n",
       "    <tr>\n",
       "      <th>2</th>\n",
       "      <td>33896-11noremb.jpg</td>\n",
       "      <td>Catalogue number: Bredius 109.[PAINTER]'s life...</td>\n",
       "      <td>REMBRANDT Harmenszoon van Rijn</td>\n",
       "      <td>624</td>\n",
       "    </tr>\n",
       "    <tr>\n",
       "      <th>3</th>\n",
       "      <td>35604-06landsc.jpg</td>\n",
       "      <td>Saint George and the Dragon symbolises the clo...</td>\n",
       "      <td>RUBENS, Peter Paul</td>\n",
       "      <td>2685</td>\n",
       "    </tr>\n",
       "    <tr>\n",
       "      <th>4</th>\n",
       "      <td>39730-6perseus.jpg</td>\n",
       "      <td>This painting is one of the six 'poesie' paint...</td>\n",
       "      <td>TIZIANO Vecellio</td>\n",
       "      <td>81</td>\n",
       "    </tr>\n",
       "  </tbody>\n",
       "</table>\n",
       "</div>"
      ],
      "text/plain": [
       "           IMAGE_FILE                                        DESCRIPTION  \\\n",
       "0   16346-virtu_4.jpg  The figures of Justice and Injustice are large...   \n",
       "1  16980-2hague03.jpg  Catalogue numbers: F 4, JH 187.In the years 18...   \n",
       "2  33896-11noremb.jpg  Catalogue number: Bredius 109.[PAINTER]'s life...   \n",
       "3  35604-06landsc.jpg  Saint George and the Dragon symbolises the clo...   \n",
       "4  39730-6perseus.jpg  This painting is one of the six 'poesie' paint...   \n",
       "\n",
       "                           AUTHOR  comment_length  \n",
       "0               GIOTTO di Bondone             348  \n",
       "1               GOGH, Vincent van             314  \n",
       "2  REMBRANDT Harmenszoon van Rijn             624  \n",
       "3              RUBENS, Peter Paul            2685  \n",
       "4                TIZIANO Vecellio              81  "
      ]
     },
     "execution_count": 3,
     "metadata": {},
     "output_type": "execute_result"
    }
   ],
   "source": [
    "# load data frames\n",
    "df_train = pd.read_csv('/kaggle/input/train_bal.csv')\n",
    "df_val = pd.read_csv('/kaggle/input/val_bal.csv')\n",
    "df_test = pd.read_csv('/kaggle/input/test_bal.csv')\n",
    "df_train.head()"
   ]
  },
  {
   "cell_type": "code",
   "execution_count": 4,
   "metadata": {
    "execution": {
     "iopub.execute_input": "2024-05-28T14:17:47.193371Z",
     "iopub.status.busy": "2024-05-28T14:17:47.193010Z",
     "iopub.status.idle": "2024-05-28T14:17:53.090277Z",
     "shell.execute_reply": "2024-05-28T14:17:53.089336Z",
     "shell.execute_reply.started": "2024-05-28T14:17:47.193336Z"
    }
   },
   "outputs": [
    {
     "name": "stderr",
     "output_type": "stream",
     "text": [
      "1602it [00:05, 299.19it/s]\n",
      "89it [00:00, 335.25it/s]\n",
      "89it [00:00, 355.11it/s]\n"
     ]
    }
   ],
   "source": [
    "max_length = 512\n",
    "\n",
    "# Prepare input data\n",
    "input_ids_train = np.zeros((len(df_train), max_length))\n",
    "att_masks_train = np.zeros((len(df_train), max_length))\n",
    "\n",
    "input_ids_val = np.zeros((len(df_val), max_length))\n",
    "att_masks_val = np.zeros((len(df_val), max_length))\n",
    "\n",
    "input_ids_test = np.zeros((len(df_test), max_length))\n",
    "att_masks_test = np.zeros((len(df_test), max_length))\n",
    "\n",
    "\n",
    "def encode_text(df, ids, attention_masks, tokenizer):\n",
    "    '''\n",
    "    This function iterates over all rows in a dataframe. Using the encode_plus() method of the Tokenizer object,\n",
    "    it encodes the text data and stores the ids and attention masks in numpy arrays. The tqdm function is used to display a progress bar.\n",
    "    '''\n",
    "    for i, text in tqdm(enumerate(df['DESCRIPTION'])):\n",
    "        tokenized = tokenizer.encode_plus(\n",
    "            text,\n",
    "            max_length=512,\n",
    "            truncation=True,\n",
    "            padding='max_length',\n",
    "            add_special_tokens=True,\n",
    "            return_tensors='tf'\n",
    "        )\n",
    "        ids[i, :] = tokenized.input_ids\n",
    "        attention_masks[i, :] = tokenized.attention_mask\n",
    "    return ids, attention_masks\n",
    "\n",
    "# fill the numpy arrays inititalized with zeros with the input ids and attention masks for the dataset\n",
    "\n",
    "# encode train data\n",
    "input_ids_train, att_masks_train = encode_text(df_train, input_ids_train, att_masks_train, tokenizer)\n",
    "\n",
    "# encode validation data\n",
    "input_ids_val, att_masks_val = encode_text(df_val, input_ids_val, att_masks_val, tokenizer)\n",
    "\n",
    "# encode test data\n",
    "input_ids_test, att_masks_test = encode_text(df_test, input_ids_test, att_masks_test, tokenizer)\n"
   ]
  },
  {
   "cell_type": "code",
   "execution_count": 5,
   "metadata": {
    "execution": {
     "iopub.execute_input": "2024-05-28T14:17:53.091637Z",
     "iopub.status.busy": "2024-05-28T14:17:53.091367Z",
     "iopub.status.idle": "2024-05-28T14:17:53.100772Z",
     "shell.execute_reply": "2024-05-28T14:17:53.099801Z",
     "shell.execute_reply.started": "2024-05-28T14:17:53.091613Z"
    }
   },
   "outputs": [
    {
     "name": "stdout",
     "output_type": "stream",
     "text": [
      "['CRANACH, Lucas the Elder', 'GIOTTO di Bondone', 'GOGH, Vincent van', 'GRECO, El', 'REMBRANDT Harmenszoon van Rijn', 'RUBENS, Peter Paul', 'TIEPOLO, Giovanni Battista', 'TIZIANO Vecellio', 'UNKNOWN MASTER, Italian', 'VERONESE, Paolo']\n"
     ]
    }
   ],
   "source": [
    "# prepare labels\n",
    "from keras.utils import to_categorical\n",
    "\n",
    "label_encoder = LabelEncoder()\n",
    "\n",
    "# apply label encoder to transform labels into integers\n",
    "labels_train = label_encoder.fit_transform(df_train['AUTHOR'])\n",
    "labels_val = label_encoder.transform(df_val['AUTHOR'])\n",
    "labels_test = label_encoder.transform(df_test['AUTHOR'])\n",
    "\n",
    "labels_train = to_categorical(np.asarray(labels_train))\n",
    "labels_val = to_categorical(np.asarray(labels_val))\n",
    "labels_test = to_categorical(np.asarray(labels_test))\n",
    "\n",
    "painter_mapping = list(label_encoder.classes_) # get new label numbers and painters (for confusion matrix legend)\n",
    "print(painter_mapping)"
   ]
  },
  {
   "cell_type": "code",
   "execution_count": 6,
   "metadata": {
    "execution": {
     "iopub.execute_input": "2024-05-28T14:17:53.102458Z",
     "iopub.status.busy": "2024-05-28T14:17:53.102103Z",
     "iopub.status.idle": "2024-05-28T14:17:53.168430Z",
     "shell.execute_reply": "2024-05-28T14:17:53.167428Z",
     "shell.execute_reply.started": "2024-05-28T14:17:53.102426Z"
    }
   },
   "outputs": [
    {
     "data": {
      "text/plain": [
       "<_TakeDataset element_spec=(TensorSpec(shape=(512,), dtype=tf.float64, name=None), TensorSpec(shape=(512,), dtype=tf.float64, name=None), TensorSpec(shape=(10,), dtype=tf.float64, name=None))>"
      ]
     },
     "execution_count": 6,
     "metadata": {},
     "output_type": "execute_result"
    }
   ],
   "source": [
    "import tensorflow as tf\n",
    "# create a data pipeline for feeding the encoded input sequences, attention masks and label data into the model\n",
    "train_dataset = tf.data.Dataset.from_tensor_slices((input_ids_train, att_masks_train, labels_train))\n",
    "val_dataset = tf.data.Dataset.from_tensor_slices((input_ids_val, att_masks_val, labels_val))\n",
    "test_dataset = tf.data.Dataset.from_tensor_slices((input_ids_test, att_masks_test, labels_test))\n",
    "train_dataset.take(1) # retrieve first sample in data set and check its shape and content"
   ]
  },
  {
   "cell_type": "code",
   "execution_count": 7,
   "metadata": {
    "execution": {
     "iopub.execute_input": "2024-05-28T14:17:53.170118Z",
     "iopub.status.busy": "2024-05-28T14:17:53.169756Z",
     "iopub.status.idle": "2024-05-28T14:17:53.176018Z",
     "shell.execute_reply": "2024-05-28T14:17:53.174955Z",
     "shell.execute_reply.started": "2024-05-28T14:17:53.170085Z"
    }
   },
   "outputs": [],
   "source": [
    "# creating dictionaries\n",
    "def SentimentDatasetMapFunction(input_ids, att_masks, labels):\n",
    "    '''This function maps the encoded input sequences, attention masks and labels to a format required by the input layer of the BERT model.\n",
    "    It returns a dictionary with two keys (input_ids and attention_mask) that can be later used as input to the map method of a tf.data.Dataset object.'''\n",
    "    return {\n",
    "        'input_ids': input_ids,\n",
    "        'attention_mask': att_masks\n",
    "    }, labels"
   ]
  },
  {
   "cell_type": "code",
   "execution_count": 8,
   "metadata": {
    "execution": {
     "iopub.execute_input": "2024-05-28T14:17:53.177319Z",
     "iopub.status.busy": "2024-05-28T14:17:53.177040Z",
     "iopub.status.idle": "2024-05-28T14:17:53.256959Z",
     "shell.execute_reply": "2024-05-28T14:17:53.256126Z",
     "shell.execute_reply.started": "2024-05-28T14:17:53.177295Z"
    }
   },
   "outputs": [
    {
     "data": {
      "text/plain": [
       "<_TakeDataset element_spec=({'input_ids': TensorSpec(shape=(512,), dtype=tf.float64, name=None), 'attention_mask': TensorSpec(shape=(512,), dtype=tf.float64, name=None)}, TensorSpec(shape=(10,), dtype=tf.float64, name=None))>"
      ]
     },
     "execution_count": 8,
     "metadata": {},
     "output_type": "execute_result"
    }
   ],
   "source": [
    "# transform data according to the SentimentDataSetMapfunction (required format for tensorflow dataset)\n",
    "#converting to required format for tensorflow dataset\n",
    "# Map datasets\n",
    "train_dataset = train_dataset.map(SentimentDatasetMapFunction)\n",
    "val_dataset = val_dataset.map(SentimentDatasetMapFunction)\n",
    "test_dataset = test_dataset.map(SentimentDatasetMapFunction)\n",
    "train_dataset.take(0)"
   ]
  },
  {
   "cell_type": "code",
   "execution_count": 9,
   "metadata": {
    "execution": {
     "iopub.execute_input": "2024-05-28T14:17:53.258295Z",
     "iopub.status.busy": "2024-05-28T14:17:53.258028Z",
     "iopub.status.idle": "2024-05-28T14:17:53.269022Z",
     "shell.execute_reply": "2024-05-28T14:17:53.268143Z",
     "shell.execute_reply.started": "2024-05-28T14:17:53.258272Z"
    }
   },
   "outputs": [],
   "source": [
    "batch_size=64\n",
    "train_dataset = train_dataset.batch(batch_size)\n",
    "val_dataset = val_dataset.batch(batch_size)\n",
    "test_dataset = test_dataset.batch(batch_size)"
   ]
  },
  {
   "cell_type": "code",
   "execution_count": 10,
   "metadata": {
    "execution": {
     "iopub.execute_input": "2024-05-28T14:17:53.273313Z",
     "iopub.status.busy": "2024-05-28T14:17:53.272436Z",
     "iopub.status.idle": "2024-05-28T14:17:53.391148Z",
     "shell.execute_reply": "2024-05-28T14:17:53.390321Z",
     "shell.execute_reply.started": "2024-05-28T14:17:53.273280Z"
    }
   },
   "outputs": [],
   "source": [
    "train_dataset = train_dataset.map(lambda x, y: ({'input_ids': tf.cast(x['input_ids'], tf.int32), 'attention_mask': tf.cast(x['attention_mask'], tf.int32)}, y))\n",
    "val_dataset = val_dataset.map(lambda x, y: ({'input_ids': tf.cast(x['input_ids'], tf.int32), 'attention_mask': tf.cast(x['attention_mask'], tf.int32)}, y))\n",
    "test_dataset = test_dataset.map(lambda x, y: ({'input_ids': tf.cast(x['input_ids'], tf.int32), 'attention_mask': tf.cast(x['attention_mask'], tf.int32)}, y))"
   ]
  },
  {
   "cell_type": "code",
   "execution_count": 11,
   "metadata": {
    "execution": {
     "iopub.execute_input": "2024-05-28T14:17:53.392359Z",
     "iopub.status.busy": "2024-05-28T14:17:53.392099Z",
     "iopub.status.idle": "2024-05-28T16:01:23.519295Z",
     "shell.execute_reply": "2024-05-28T16:01:23.518003Z",
     "shell.execute_reply.started": "2024-05-28T14:17:53.392336Z"
    }
   },
   "outputs": [
    {
     "name": "stderr",
     "output_type": "stream",
     "text": [
      "Some weights of the PyTorch model were not used when initializing the TF 2.0 model TFBertModel: ['cls.predictions.transform.dense.weight', 'cls.predictions.transform.dense.bias', 'cls.seq_relationship.bias', 'cls.predictions.transform.LayerNorm.weight', 'cls.seq_relationship.weight', 'cls.predictions.bias', 'cls.predictions.transform.LayerNorm.bias']\n",
      "- This IS expected if you are initializing TFBertModel from a PyTorch model trained on another task or with another architecture (e.g. initializing a TFBertForSequenceClassification model from a BertForPreTraining model).\n",
      "- This IS NOT expected if you are initializing TFBertModel from a PyTorch model that you expect to be exactly identical (e.g. initializing a TFBertForSequenceClassification model from a BertForSequenceClassification model).\n",
      "All the weights of TFBertModel were initialized from the PyTorch model.\n",
      "If your task is similar to the task the model of the checkpoint was trained on, you can already use TFBertModel for predictions without further training.\n"
     ]
    },
    {
     "name": "stdout",
     "output_type": "stream",
     "text": [
      "Epoch 1/15\n"
     ]
    },
    {
     "name": "stderr",
     "output_type": "stream",
     "text": [
      "WARNING: All log messages before absl::InitializeLog() is called are written to STDERR\n",
      "I0000 00:00:1716905942.537234    4936 device_compiler.h:186] Compiled cluster using XLA!  This line is logged at most once for the lifetime of the process.\n"
     ]
    },
    {
     "name": "stdout",
     "output_type": "stream",
     "text": [
      "26/26 - 134s - loss: 2.2968 - accuracy: 0.1598 - val_loss: 2.2890 - val_accuracy: 0.1798 - 134s/epoch - 5s/step\n",
      "Epoch 2/15\n",
      "26/26 - 77s - loss: 2.2485 - accuracy: 0.1723 - val_loss: 2.2594 - val_accuracy: 0.2247 - 77s/epoch - 3s/step\n",
      "Epoch 3/15\n",
      "26/26 - 76s - loss: 2.2057 - accuracy: 0.1891 - val_loss: 2.2338 - val_accuracy: 0.1798 - 76s/epoch - 3s/step\n",
      "Epoch 4/15\n",
      "26/26 - 76s - loss: 2.1828 - accuracy: 0.1904 - val_loss: 2.2080 - val_accuracy: 0.2247 - 76s/epoch - 3s/step\n",
      "Epoch 5/15\n",
      "26/26 - 76s - loss: 2.1433 - accuracy: 0.2047 - val_loss: 2.1570 - val_accuracy: 0.2472 - 76s/epoch - 3s/step\n",
      "Epoch 6/15\n",
      "26/26 - 77s - loss: 2.1115 - accuracy: 0.2347 - val_loss: 2.1236 - val_accuracy: 0.2584 - 77s/epoch - 3s/step\n",
      "Epoch 7/15\n",
      "26/26 - 77s - loss: 2.0890 - accuracy: 0.2403 - val_loss: 2.1014 - val_accuracy: 0.2584 - 77s/epoch - 3s/step\n",
      "Epoch 8/15\n",
      "26/26 - 77s - loss: 2.0715 - accuracy: 0.2584 - val_loss: 2.0550 - val_accuracy: 0.2809 - 77s/epoch - 3s/step\n",
      "Epoch 9/15\n",
      "26/26 - 76s - loss: 2.0341 - accuracy: 0.2828 - val_loss: 2.0200 - val_accuracy: 0.3034 - 76s/epoch - 3s/step\n",
      "Epoch 10/15\n",
      "26/26 - 77s - loss: 2.0089 - accuracy: 0.2934 - val_loss: 1.9879 - val_accuracy: 0.3146 - 77s/epoch - 3s/step\n",
      "Epoch 11/15\n",
      "26/26 - 77s - loss: 1.9837 - accuracy: 0.3046 - val_loss: 1.9596 - val_accuracy: 0.3483 - 77s/epoch - 3s/step\n",
      "Epoch 12/15\n",
      "26/26 - 77s - loss: 1.9596 - accuracy: 0.3227 - val_loss: 1.9372 - val_accuracy: 0.3708 - 77s/epoch - 3s/step\n",
      "Epoch 13/15\n",
      "26/26 - 76s - loss: 1.9542 - accuracy: 0.3233 - val_loss: 1.9066 - val_accuracy: 0.3708 - 76s/epoch - 3s/step\n",
      "Epoch 14/15\n",
      "26/26 - 76s - loss: 1.9253 - accuracy: 0.3408 - val_loss: 1.8912 - val_accuracy: 0.3820 - 76s/epoch - 3s/step\n",
      "Epoch 15/15\n",
      "26/26 - 76s - loss: 1.9007 - accuracy: 0.3527 - val_loss: 1.8440 - val_accuracy: 0.4157 - 76s/epoch - 3s/step\n",
      "Validation Loss: 1.8440037965774536, Validation Accuracy: 0.4157303273677826\n",
      "Test Loss: 1.8343533277511597, Test Accuracy: 0.43820226192474365\n",
      "Execution time for seed 5: 1239.6263709068298 seconds\n"
     ]
    },
    {
     "name": "stderr",
     "output_type": "stream",
     "text": [
      "Some weights of the PyTorch model were not used when initializing the TF 2.0 model TFBertModel: ['cls.predictions.transform.dense.weight', 'cls.predictions.transform.dense.bias', 'cls.seq_relationship.bias', 'cls.predictions.transform.LayerNorm.weight', 'cls.seq_relationship.weight', 'cls.predictions.bias', 'cls.predictions.transform.LayerNorm.bias']\n",
      "- This IS expected if you are initializing TFBertModel from a PyTorch model trained on another task or with another architecture (e.g. initializing a TFBertForSequenceClassification model from a BertForPreTraining model).\n",
      "- This IS NOT expected if you are initializing TFBertModel from a PyTorch model that you expect to be exactly identical (e.g. initializing a TFBertForSequenceClassification model from a BertForSequenceClassification model).\n",
      "All the weights of TFBertModel were initialized from the PyTorch model.\n",
      "If your task is similar to the task the model of the checkpoint was trained on, you can already use TFBertModel for predictions without further training.\n"
     ]
    },
    {
     "name": "stdout",
     "output_type": "stream",
     "text": [
      "Epoch 1/15\n",
      "26/26 - 118s - loss: 2.3076 - accuracy: 0.1161 - val_loss: 2.2770 - val_accuracy: 0.1236 - 118s/epoch - 5s/step\n",
      "Epoch 2/15\n",
      "26/26 - 77s - loss: 2.2352 - accuracy: 0.1710 - val_loss: 2.2304 - val_accuracy: 0.1124 - 77s/epoch - 3s/step\n",
      "Epoch 3/15\n",
      "26/26 - 77s - loss: 2.1868 - accuracy: 0.1948 - val_loss: 2.2126 - val_accuracy: 0.1685 - 77s/epoch - 3s/step\n",
      "Epoch 4/15\n",
      "26/26 - 76s - loss: 2.1626 - accuracy: 0.2191 - val_loss: 2.1723 - val_accuracy: 0.1798 - 76s/epoch - 3s/step\n",
      "Epoch 5/15\n",
      "26/26 - 76s - loss: 2.1294 - accuracy: 0.2316 - val_loss: 2.1437 - val_accuracy: 0.2022 - 76s/epoch - 3s/step\n",
      "Epoch 6/15\n",
      "26/26 - 76s - loss: 2.1062 - accuracy: 0.2478 - val_loss: 2.1219 - val_accuracy: 0.2360 - 76s/epoch - 3s/step\n",
      "Epoch 7/15\n",
      "26/26 - 76s - loss: 2.0704 - accuracy: 0.2634 - val_loss: 2.0795 - val_accuracy: 0.3258 - 76s/epoch - 3s/step\n",
      "Epoch 8/15\n",
      "26/26 - 76s - loss: 2.0442 - accuracy: 0.2859 - val_loss: 2.0470 - val_accuracy: 0.3258 - 76s/epoch - 3s/step\n",
      "Epoch 9/15\n",
      "26/26 - 76s - loss: 2.0354 - accuracy: 0.2790 - val_loss: 2.0245 - val_accuracy: 0.3034 - 76s/epoch - 3s/step\n",
      "Epoch 10/15\n",
      "26/26 - 77s - loss: 2.0035 - accuracy: 0.2884 - val_loss: 1.9819 - val_accuracy: 0.3258 - 77s/epoch - 3s/step\n",
      "Epoch 11/15\n",
      "26/26 - 76s - loss: 1.9887 - accuracy: 0.3027 - val_loss: 1.9592 - val_accuracy: 0.3483 - 76s/epoch - 3s/step\n",
      "Epoch 12/15\n",
      "26/26 - 76s - loss: 1.9641 - accuracy: 0.3208 - val_loss: 1.9325 - val_accuracy: 0.3483 - 76s/epoch - 3s/step\n",
      "Epoch 13/15\n",
      "26/26 - 76s - loss: 1.9409 - accuracy: 0.3383 - val_loss: 1.9026 - val_accuracy: 0.3483 - 76s/epoch - 3s/step\n",
      "Epoch 14/15\n",
      "26/26 - 76s - loss: 1.9259 - accuracy: 0.3327 - val_loss: 1.8753 - val_accuracy: 0.4045 - 76s/epoch - 3s/step\n",
      "Epoch 15/15\n",
      "26/26 - 76s - loss: 1.9038 - accuracy: 0.3427 - val_loss: 1.8584 - val_accuracy: 0.4157 - 76s/epoch - 3s/step\n",
      "Validation Loss: 1.8583811521530151, Validation Accuracy: 0.4157303273677826\n",
      "Test Loss: 1.817650556564331, Test Accuracy: 0.43820226192474365\n",
      "Execution time for seed 6: 1211.5630407333374 seconds\n"
     ]
    },
    {
     "name": "stderr",
     "output_type": "stream",
     "text": [
      "Some weights of the PyTorch model were not used when initializing the TF 2.0 model TFBertModel: ['cls.predictions.transform.dense.weight', 'cls.predictions.transform.dense.bias', 'cls.seq_relationship.bias', 'cls.predictions.transform.LayerNorm.weight', 'cls.seq_relationship.weight', 'cls.predictions.bias', 'cls.predictions.transform.LayerNorm.bias']\n",
      "- This IS expected if you are initializing TFBertModel from a PyTorch model trained on another task or with another architecture (e.g. initializing a TFBertForSequenceClassification model from a BertForPreTraining model).\n",
      "- This IS NOT expected if you are initializing TFBertModel from a PyTorch model that you expect to be exactly identical (e.g. initializing a TFBertForSequenceClassification model from a BertForSequenceClassification model).\n",
      "All the weights of TFBertModel were initialized from the PyTorch model.\n",
      "If your task is similar to the task the model of the checkpoint was trained on, you can already use TFBertModel for predictions without further training.\n"
     ]
    },
    {
     "name": "stdout",
     "output_type": "stream",
     "text": [
      "Epoch 1/15\n",
      "26/26 - 118s - loss: 2.3158 - accuracy: 0.1348 - val_loss: 2.2985 - val_accuracy: 0.1910 - 118s/epoch - 5s/step\n",
      "Epoch 2/15\n",
      "26/26 - 77s - loss: 2.2379 - accuracy: 0.1760 - val_loss: 2.2389 - val_accuracy: 0.2697 - 77s/epoch - 3s/step\n",
      "Epoch 3/15\n",
      "26/26 - 77s - loss: 2.1991 - accuracy: 0.2172 - val_loss: 2.2114 - val_accuracy: 0.2247 - 77s/epoch - 3s/step\n",
      "Epoch 4/15\n",
      "26/26 - 76s - loss: 2.1616 - accuracy: 0.2104 - val_loss: 2.1829 - val_accuracy: 0.2247 - 76s/epoch - 3s/step\n",
      "Epoch 5/15\n",
      "26/26 - 76s - loss: 2.1304 - accuracy: 0.2403 - val_loss: 2.1641 - val_accuracy: 0.2697 - 76s/epoch - 3s/step\n",
      "Epoch 6/15\n",
      "26/26 - 77s - loss: 2.1113 - accuracy: 0.2447 - val_loss: 2.1288 - val_accuracy: 0.2247 - 77s/epoch - 3s/step\n",
      "Epoch 7/15\n",
      "26/26 - 77s - loss: 2.0861 - accuracy: 0.2572 - val_loss: 2.1170 - val_accuracy: 0.2584 - 77s/epoch - 3s/step\n",
      "Epoch 8/15\n",
      "26/26 - 76s - loss: 2.0531 - accuracy: 0.2834 - val_loss: 2.0772 - val_accuracy: 0.2809 - 76s/epoch - 3s/step\n",
      "Epoch 9/15\n",
      "26/26 - 76s - loss: 2.0439 - accuracy: 0.2921 - val_loss: 2.0380 - val_accuracy: 0.2697 - 76s/epoch - 3s/step\n",
      "Epoch 10/15\n",
      "26/26 - 76s - loss: 2.0210 - accuracy: 0.2821 - val_loss: 2.0141 - val_accuracy: 0.2809 - 76s/epoch - 3s/step\n",
      "Epoch 11/15\n",
      "26/26 - 76s - loss: 1.9945 - accuracy: 0.2978 - val_loss: 1.9696 - val_accuracy: 0.3483 - 76s/epoch - 3s/step\n",
      "Epoch 12/15\n",
      "26/26 - 77s - loss: 1.9735 - accuracy: 0.3084 - val_loss: 1.9404 - val_accuracy: 0.3483 - 77s/epoch - 3s/step\n",
      "Epoch 13/15\n",
      "26/26 - 76s - loss: 1.9451 - accuracy: 0.3371 - val_loss: 1.9240 - val_accuracy: 0.3820 - 76s/epoch - 3s/step\n",
      "Epoch 14/15\n",
      "26/26 - 76s - loss: 1.9234 - accuracy: 0.3508 - val_loss: 1.9039 - val_accuracy: 0.4157 - 76s/epoch - 3s/step\n",
      "Epoch 15/15\n",
      "26/26 - 76s - loss: 1.9041 - accuracy: 0.3608 - val_loss: 1.8675 - val_accuracy: 0.4157 - 76s/epoch - 3s/step\n",
      "Validation Loss: 1.8674805164337158, Validation Accuracy: 0.4157303273677826\n",
      "Test Loss: 1.8369829654693604, Test Accuracy: 0.43820226192474365\n",
      "Execution time for seed 7: 1206.6710481643677 seconds\n"
     ]
    },
    {
     "name": "stderr",
     "output_type": "stream",
     "text": [
      "Some weights of the PyTorch model were not used when initializing the TF 2.0 model TFBertModel: ['cls.predictions.transform.dense.weight', 'cls.predictions.transform.dense.bias', 'cls.seq_relationship.bias', 'cls.predictions.transform.LayerNorm.weight', 'cls.seq_relationship.weight', 'cls.predictions.bias', 'cls.predictions.transform.LayerNorm.bias']\n",
      "- This IS expected if you are initializing TFBertModel from a PyTorch model trained on another task or with another architecture (e.g. initializing a TFBertForSequenceClassification model from a BertForPreTraining model).\n",
      "- This IS NOT expected if you are initializing TFBertModel from a PyTorch model that you expect to be exactly identical (e.g. initializing a TFBertForSequenceClassification model from a BertForSequenceClassification model).\n",
      "All the weights of TFBertModel were initialized from the PyTorch model.\n",
      "If your task is similar to the task the model of the checkpoint was trained on, you can already use TFBertModel for predictions without further training.\n"
     ]
    },
    {
     "name": "stdout",
     "output_type": "stream",
     "text": [
      "Epoch 1/15\n",
      "26/26 - 118s - loss: 2.3150 - accuracy: 0.1417 - val_loss: 2.2769 - val_accuracy: 0.1685 - 118s/epoch - 5s/step\n",
      "Epoch 2/15\n",
      "26/26 - 77s - loss: 2.2355 - accuracy: 0.1667 - val_loss: 2.2274 - val_accuracy: 0.1910 - 77s/epoch - 3s/step\n",
      "Epoch 3/15\n",
      "26/26 - 76s - loss: 2.1866 - accuracy: 0.1779 - val_loss: 2.1718 - val_accuracy: 0.2135 - 76s/epoch - 3s/step\n",
      "Epoch 4/15\n",
      "26/26 - 76s - loss: 2.1568 - accuracy: 0.2135 - val_loss: 2.1516 - val_accuracy: 0.2135 - 76s/epoch - 3s/step\n",
      "Epoch 5/15\n",
      "26/26 - 76s - loss: 2.1149 - accuracy: 0.2303 - val_loss: 2.1234 - val_accuracy: 0.2584 - 76s/epoch - 3s/step\n",
      "Epoch 6/15\n",
      "26/26 - 76s - loss: 2.1025 - accuracy: 0.2459 - val_loss: 2.0999 - val_accuracy: 0.2697 - 76s/epoch - 3s/step\n",
      "Epoch 7/15\n",
      "26/26 - 77s - loss: 2.0662 - accuracy: 0.2647 - val_loss: 2.0606 - val_accuracy: 0.2472 - 77s/epoch - 3s/step\n",
      "Epoch 8/15\n",
      "26/26 - 76s - loss: 2.0432 - accuracy: 0.2709 - val_loss: 2.0266 - val_accuracy: 0.3146 - 76s/epoch - 3s/step\n",
      "Epoch 9/15\n",
      "26/26 - 77s - loss: 2.0115 - accuracy: 0.2834 - val_loss: 1.9993 - val_accuracy: 0.2921 - 77s/epoch - 3s/step\n",
      "Epoch 10/15\n",
      "26/26 - 77s - loss: 1.9864 - accuracy: 0.3134 - val_loss: 1.9659 - val_accuracy: 0.3258 - 77s/epoch - 3s/step\n",
      "Epoch 11/15\n",
      "26/26 - 77s - loss: 1.9654 - accuracy: 0.3040 - val_loss: 1.9411 - val_accuracy: 0.3708 - 77s/epoch - 3s/step\n",
      "Epoch 12/15\n",
      "26/26 - 77s - loss: 1.9466 - accuracy: 0.3315 - val_loss: 1.9113 - val_accuracy: 0.4045 - 77s/epoch - 3s/step\n",
      "Epoch 13/15\n",
      "26/26 - 77s - loss: 1.9234 - accuracy: 0.3358 - val_loss: 1.8880 - val_accuracy: 0.3820 - 77s/epoch - 3s/step\n",
      "Epoch 14/15\n",
      "26/26 - 77s - loss: 1.9012 - accuracy: 0.3589 - val_loss: 1.8513 - val_accuracy: 0.4494 - 77s/epoch - 3s/step\n",
      "Epoch 15/15\n",
      "26/26 - 77s - loss: 1.8920 - accuracy: 0.3552 - val_loss: 1.8210 - val_accuracy: 0.4607 - 77s/epoch - 3s/step\n",
      "Validation Loss: 1.820966362953186, Validation Accuracy: 0.4606741666793823\n",
      "Test Loss: 1.7861906290054321, Test Accuracy: 0.47191011905670166\n",
      "Execution time for seed 8: 1258.4775433540344 seconds\n"
     ]
    },
    {
     "name": "stderr",
     "output_type": "stream",
     "text": [
      "Some weights of the PyTorch model were not used when initializing the TF 2.0 model TFBertModel: ['cls.predictions.transform.dense.weight', 'cls.predictions.transform.dense.bias', 'cls.seq_relationship.bias', 'cls.predictions.transform.LayerNorm.weight', 'cls.seq_relationship.weight', 'cls.predictions.bias', 'cls.predictions.transform.LayerNorm.bias']\n",
      "- This IS expected if you are initializing TFBertModel from a PyTorch model trained on another task or with another architecture (e.g. initializing a TFBertForSequenceClassification model from a BertForPreTraining model).\n",
      "- This IS NOT expected if you are initializing TFBertModel from a PyTorch model that you expect to be exactly identical (e.g. initializing a TFBertForSequenceClassification model from a BertForSequenceClassification model).\n",
      "All the weights of TFBertModel were initialized from the PyTorch model.\n",
      "If your task is similar to the task the model of the checkpoint was trained on, you can already use TFBertModel for predictions without further training.\n"
     ]
    },
    {
     "name": "stdout",
     "output_type": "stream",
     "text": [
      "Epoch 1/15\n",
      "26/26 - 119s - loss: 2.2987 - accuracy: 0.1167 - val_loss: 2.2981 - val_accuracy: 0.1348 - 119s/epoch - 5s/step\n",
      "Epoch 2/15\n",
      "26/26 - 77s - loss: 2.2461 - accuracy: 0.1592 - val_loss: 2.2421 - val_accuracy: 0.1573 - 77s/epoch - 3s/step\n",
      "Epoch 3/15\n",
      "26/26 - 77s - loss: 2.1961 - accuracy: 0.2060 - val_loss: 2.2413 - val_accuracy: 0.1685 - 77s/epoch - 3s/step\n",
      "Epoch 4/15\n",
      "26/26 - 77s - loss: 2.1643 - accuracy: 0.2035 - val_loss: 2.2105 - val_accuracy: 0.1573 - 77s/epoch - 3s/step\n",
      "Epoch 5/15\n",
      "26/26 - 77s - loss: 2.1470 - accuracy: 0.2191 - val_loss: 2.1839 - val_accuracy: 0.2135 - 77s/epoch - 3s/step\n",
      "Epoch 6/15\n",
      "26/26 - 77s - loss: 2.1207 - accuracy: 0.2353 - val_loss: 2.1484 - val_accuracy: 0.1910 - 77s/epoch - 3s/step\n",
      "Epoch 7/15\n",
      "26/26 - 77s - loss: 2.0874 - accuracy: 0.2459 - val_loss: 2.1121 - val_accuracy: 0.2360 - 77s/epoch - 3s/step\n",
      "Epoch 8/15\n",
      "26/26 - 76s - loss: 2.0655 - accuracy: 0.2591 - val_loss: 2.0893 - val_accuracy: 0.2584 - 76s/epoch - 3s/step\n",
      "Epoch 9/15\n",
      "26/26 - 77s - loss: 2.0488 - accuracy: 0.2715 - val_loss: 2.0768 - val_accuracy: 0.2472 - 77s/epoch - 3s/step\n",
      "Epoch 10/15\n",
      "26/26 - 77s - loss: 2.0367 - accuracy: 0.2753 - val_loss: 2.0457 - val_accuracy: 0.2697 - 77s/epoch - 3s/step\n",
      "Epoch 11/15\n",
      "26/26 - 77s - loss: 1.9968 - accuracy: 0.3065 - val_loss: 2.0166 - val_accuracy: 0.2921 - 77s/epoch - 3s/step\n",
      "Epoch 12/15\n",
      "26/26 - 76s - loss: 1.9862 - accuracy: 0.2990 - val_loss: 1.9792 - val_accuracy: 0.2921 - 76s/epoch - 3s/step\n",
      "Epoch 13/15\n",
      "26/26 - 76s - loss: 1.9556 - accuracy: 0.3271 - val_loss: 1.9487 - val_accuracy: 0.3258 - 76s/epoch - 3s/step\n",
      "Epoch 14/15\n",
      "26/26 - 77s - loss: 1.9344 - accuracy: 0.3315 - val_loss: 1.9272 - val_accuracy: 0.3483 - 77s/epoch - 3s/step\n",
      "Epoch 15/15\n",
      "26/26 - 77s - loss: 1.9143 - accuracy: 0.3602 - val_loss: 1.8861 - val_accuracy: 0.3596 - 77s/epoch - 3s/step\n",
      "Validation Loss: 1.8861167430877686, Validation Accuracy: 0.3595505654811859\n",
      "Test Loss: 1.83912193775177, Test Accuracy: 0.3820224702358246\n",
      "Execution time for seed 9: 1225.2222301959991 seconds\n",
      "   seed  val_accuracy  test_accuracy\n",
      "0     5      0.415730       0.438202\n",
      "1     6      0.415730       0.438202\n",
      "2     7      0.415730       0.438202\n",
      "3     8      0.460674       0.471910\n",
      "4     9      0.359551       0.382022\n"
     ]
    },
    {
     "data": {
      "text/html": [
       "<div>\n",
       "<style scoped>\n",
       "    .dataframe tbody tr th:only-of-type {\n",
       "        vertical-align: middle;\n",
       "    }\n",
       "\n",
       "    .dataframe tbody tr th {\n",
       "        vertical-align: top;\n",
       "    }\n",
       "\n",
       "    .dataframe thead th {\n",
       "        text-align: right;\n",
       "    }\n",
       "</style>\n",
       "<table border=\"1\" class=\"dataframe\">\n",
       "  <thead>\n",
       "    <tr style=\"text-align: right;\">\n",
       "      <th></th>\n",
       "      <th>seed</th>\n",
       "      <th>epoch 1</th>\n",
       "      <th>epoch 2</th>\n",
       "      <th>epoch 3</th>\n",
       "      <th>epoch 4</th>\n",
       "      <th>epoch 5</th>\n",
       "      <th>epoch 6</th>\n",
       "      <th>epoch 7</th>\n",
       "      <th>epoch 8</th>\n",
       "      <th>epoch 9</th>\n",
       "      <th>epoch 10</th>\n",
       "      <th>epoch 11</th>\n",
       "      <th>epoch 12</th>\n",
       "      <th>epoch 13</th>\n",
       "      <th>epoch 14</th>\n",
       "      <th>epoch 15</th>\n",
       "    </tr>\n",
       "  </thead>\n",
       "  <tbody>\n",
       "    <tr>\n",
       "      <th>0</th>\n",
       "      <td>0</td>\n",
       "      <td>0.179775</td>\n",
       "      <td>0.224719</td>\n",
       "      <td>0.179775</td>\n",
       "      <td>0.224719</td>\n",
       "      <td>0.247191</td>\n",
       "      <td>0.258427</td>\n",
       "      <td>0.258427</td>\n",
       "      <td>0.280899</td>\n",
       "      <td>0.303371</td>\n",
       "      <td>0.314607</td>\n",
       "      <td>0.348315</td>\n",
       "      <td>0.370787</td>\n",
       "      <td>0.370787</td>\n",
       "      <td>0.382022</td>\n",
       "      <td>0.415730</td>\n",
       "    </tr>\n",
       "    <tr>\n",
       "      <th>1</th>\n",
       "      <td>1</td>\n",
       "      <td>0.123596</td>\n",
       "      <td>0.112360</td>\n",
       "      <td>0.168539</td>\n",
       "      <td>0.179775</td>\n",
       "      <td>0.202247</td>\n",
       "      <td>0.235955</td>\n",
       "      <td>0.325843</td>\n",
       "      <td>0.325843</td>\n",
       "      <td>0.303371</td>\n",
       "      <td>0.325843</td>\n",
       "      <td>0.348315</td>\n",
       "      <td>0.348315</td>\n",
       "      <td>0.348315</td>\n",
       "      <td>0.404494</td>\n",
       "      <td>0.415730</td>\n",
       "    </tr>\n",
       "    <tr>\n",
       "      <th>2</th>\n",
       "      <td>2</td>\n",
       "      <td>0.191011</td>\n",
       "      <td>0.269663</td>\n",
       "      <td>0.224719</td>\n",
       "      <td>0.224719</td>\n",
       "      <td>0.269663</td>\n",
       "      <td>0.224719</td>\n",
       "      <td>0.258427</td>\n",
       "      <td>0.280899</td>\n",
       "      <td>0.269663</td>\n",
       "      <td>0.280899</td>\n",
       "      <td>0.348315</td>\n",
       "      <td>0.348315</td>\n",
       "      <td>0.382022</td>\n",
       "      <td>0.415730</td>\n",
       "      <td>0.415730</td>\n",
       "    </tr>\n",
       "    <tr>\n",
       "      <th>3</th>\n",
       "      <td>3</td>\n",
       "      <td>0.168539</td>\n",
       "      <td>0.191011</td>\n",
       "      <td>0.213483</td>\n",
       "      <td>0.213483</td>\n",
       "      <td>0.258427</td>\n",
       "      <td>0.269663</td>\n",
       "      <td>0.247191</td>\n",
       "      <td>0.314607</td>\n",
       "      <td>0.292135</td>\n",
       "      <td>0.325843</td>\n",
       "      <td>0.370787</td>\n",
       "      <td>0.404494</td>\n",
       "      <td>0.382022</td>\n",
       "      <td>0.449438</td>\n",
       "      <td>0.460674</td>\n",
       "    </tr>\n",
       "    <tr>\n",
       "      <th>4</th>\n",
       "      <td>4</td>\n",
       "      <td>0.134831</td>\n",
       "      <td>0.157303</td>\n",
       "      <td>0.168539</td>\n",
       "      <td>0.157303</td>\n",
       "      <td>0.213483</td>\n",
       "      <td>0.191011</td>\n",
       "      <td>0.235955</td>\n",
       "      <td>0.258427</td>\n",
       "      <td>0.247191</td>\n",
       "      <td>0.269663</td>\n",
       "      <td>0.292135</td>\n",
       "      <td>0.292135</td>\n",
       "      <td>0.325843</td>\n",
       "      <td>0.348315</td>\n",
       "      <td>0.359551</td>\n",
       "    </tr>\n",
       "  </tbody>\n",
       "</table>\n",
       "</div>"
      ],
      "text/plain": [
       "  seed   epoch 1   epoch 2   epoch 3   epoch 4   epoch 5   epoch 6   epoch 7  \\\n",
       "0    0  0.179775  0.224719  0.179775  0.224719  0.247191  0.258427  0.258427   \n",
       "1    1  0.123596  0.112360  0.168539  0.179775  0.202247  0.235955  0.325843   \n",
       "2    2  0.191011  0.269663  0.224719  0.224719  0.269663  0.224719  0.258427   \n",
       "3    3  0.168539  0.191011  0.213483  0.213483  0.258427  0.269663  0.247191   \n",
       "4    4  0.134831  0.157303  0.168539  0.157303  0.213483  0.191011  0.235955   \n",
       "\n",
       "    epoch 8   epoch 9  epoch 10  epoch 11  epoch 12  epoch 13  epoch 14  \\\n",
       "0  0.280899  0.303371  0.314607  0.348315  0.370787  0.370787  0.382022   \n",
       "1  0.325843  0.303371  0.325843  0.348315  0.348315  0.348315  0.404494   \n",
       "2  0.280899  0.269663  0.280899  0.348315  0.348315  0.382022  0.415730   \n",
       "3  0.314607  0.292135  0.325843  0.370787  0.404494  0.382022  0.449438   \n",
       "4  0.258427  0.247191  0.269663  0.292135  0.292135  0.325843  0.348315   \n",
       "\n",
       "   epoch 15  \n",
       "0  0.415730  \n",
       "1  0.415730  \n",
       "2  0.415730  \n",
       "3  0.460674  \n",
       "4  0.359551  "
      ]
     },
     "execution_count": 11,
     "metadata": {},
     "output_type": "execute_result"
    }
   ],
   "source": [
    "import time\n",
    "\n",
    "# original BERT model\n",
    "\n",
    "def create_bert_model():\n",
    "    model = TFBertModel.from_pretrained('bert-base-uncased')\n",
    "    bert = model.bert\n",
    "    \n",
    "    # freeze weights of BERT's layers (prevent weights from pre-trained BERT model from updating)\n",
    "    for layer in bert.submodules:\n",
    "        layer.trainable = False\n",
    "    \n",
    "    # define the two input layers for input_ids and attention masks\n",
    "    input_ids = tf.keras.layers.Input(shape=(512,), name='input_ids', dtype='int32')\n",
    "    att_masks = tf.keras.layers.Input(shape=(512,), name='attention_mask', dtype='int32')\n",
    "    \n",
    "    # get the pooled output layer\n",
    "    bert_embds = model.bert(input_ids, attention_mask=att_masks)[1]\n",
    "\n",
    "    intermediate_layer = tf.keras.layers.Dense(512, activation='relu', name='intermediate_layer')(bert_embds)\n",
    "    output_layer = tf.keras.layers.Dense(10, activation='softmax', name='output_layer')(intermediate_layer)\n",
    "    \n",
    "    bert_model = tf.keras.Model(inputs=[input_ids, att_masks], outputs=output_layer)\n",
    "    \n",
    "    optim = tf.keras.optimizers.Adam(learning_rate=1e-4)\n",
    "    loss_func = tf.keras.losses.CategoricalCrossentropy()\n",
    "    \n",
    "    bert_model.compile(optimizer=optim, loss=loss_func, metrics=['accuracy'])\n",
    "    \n",
    "    return bert_model\n",
    "\n",
    "\n",
    "results = [] \n",
    "all_val_accuracies = [] # nested list of all validation accuracies for all random seeds\n",
    "\n",
    "# train and evaluate the model with 10 different random seeds\n",
    "\n",
    "for seed in range(5,10): # for half of the seeds because kaggle has a limit of 9 hours \n",
    "    np.random.seed(seed)\n",
    "    tf.random.set_seed(seed)\n",
    "    \n",
    "    model = create_bert_model()\n",
    "    \n",
    "    if seed == 0: # print model's summary only once\n",
    "        model.summary()\n",
    "        \n",
    "    early_stopping = tf.keras.callbacks.EarlyStopping(monitor='val_loss', patience=3, restore_best_weights=True)\n",
    "    \n",
    "    start_time = time.time()\n",
    "    \n",
    "    history = model.fit(\n",
    "        train_dataset,\n",
    "        validation_data=val_dataset,\n",
    "        epochs=15,\n",
    "        callbacks=[early_stopping],\n",
    "        verbose=2\n",
    "    )\n",
    "    \n",
    "    all_val_accuracies.append(history.history['val_accuracy']) # store accuracies for all epochs of one random seed\n",
    "    \n",
    "    # evaluate on validation data \n",
    "    val_loss, val_accuracy = model.evaluate(val_dataset, verbose=0)\n",
    "    print(f'Validation Loss: {val_loss}, Validation Accuracy: {val_accuracy}')\n",
    "    \n",
    "    # evaluate model on test data\n",
    "    test_loss, test_accuracy = model.evaluate(test_dataset, verbose=0)\n",
    "    print(f'Test Loss: {test_loss}, Test Accuracy: {test_accuracy}')\n",
    "    \n",
    "    results.append({'seed': seed, 'val_accuracy': val_accuracy, 'test_accuracy': test_accuracy})\n",
    "    end_time = time.time()\n",
    "    execution_time = end_time - start_time\n",
    "    print(f\"Execution time for seed {seed}: {execution_time} seconds\")\n",
    "\n",
    "\n",
    "# save results to CSV\n",
    "results_df = pd.DataFrame(results)\n",
    "results_df.to_csv(f'bert_results2.csv', index=True)\n",
    "print(results_df.head())\n",
    "\n",
    "all_val_accuracies_df = pd.DataFrame(all_val_accuracies, \n",
    "                                     columns=[f'epoch {i+1}' for i in range(len(all_val_accuracies[0]))])\n",
    "\n",
    "all_val_accuracies_df.insert(0, 'seed', [f'{i}' for i in range(len(all_val_accuracies))])\n",
    "all_val_accuracies_df.to_csv(f'bert_all_val_accuracies2.csv', index=True)\n",
    "all_val_accuracies_df.head()"
   ]
  },
  {
   "cell_type": "code",
   "execution_count": 12,
   "metadata": {
    "execution": {
     "iopub.execute_input": "2024-05-28T16:01:23.521651Z",
     "iopub.status.busy": "2024-05-28T16:01:23.521168Z",
     "iopub.status.idle": "2024-05-28T16:01:24.129238Z",
     "shell.execute_reply": "2024-05-28T16:01:24.128246Z",
     "shell.execute_reply.started": "2024-05-28T16:01:23.521610Z"
    }
   },
   "outputs": [
    {
     "data": {
      "image/png": "[encoded data removed]",
      "text/plain": [
       "<Figure size 640x480 with 1 Axes>"
      ]
     },
     "metadata": {},
     "output_type": "display_data"
    },
    {
     "data": {
      "image/png": "[encoded data removed]",
      "text/plain": [
       "<Figure size 640x480 with 1 Axes>"
      ]
     },
     "metadata": {},
     "output_type": "display_data"
    }
   ],
   "source": [
    "# plotting the accuracy and loss of the training and validation data for the BERT model (cf. Chollet 2018: 192), seed = 1\n",
    "\n",
    "# plot training and validation accuracy and loss\n",
    "acc = history.history['accuracy']\n",
    "val_acc = history.history['val_accuracy']\n",
    "loss = history.history['loss']\n",
    "val_loss = history.history['val_loss']\n",
    "\n",
    "epochs = range(1, len(acc) + 1)\n",
    "\n",
    "plt.plot(epochs, acc, 'cyan', label='Training acc')\n",
    "plt.plot(epochs, val_acc, 'magenta', label='Validation acc')\n",
    "plt.title('Training and validation accuracy')\n",
    "plt.legend()\n",
    "plt.figure()\n",
    "\n",
    "\n",
    "plt.plot(epochs, loss, 'cyan', label='Training loss')\n",
    "plt.plot(epochs, val_loss, 'magenta', label='Validation loss')\n",
    "plt.title('Training and validation loss')\n",
    "plt.legend()\n",
    "plt.show()"
   ]
  }
 ],
 "metadata": {
  "kaggle": {
   "accelerator": "nvidiaTeslaT4",
   "dataSources": [
    {
     "datasetId": 5062127,
     "sourceId": 8485949,
     "sourceType": "datasetVersion"
    }
   ],
   "dockerImageVersionId": 30699,
   "isGpuEnabled": true,
   "isInternetEnabled": true,
   "language": "python",
   "sourceType": "notebook"
  },
  "kernelspec": {
   "display_name": "Python 3 (ipykernel)",
   "language": "python",
   "name": "python3"
  },
  "language_info": {
   "codemirror_mode": {
    "name": "ipython",
    "version": 3
   },
   "file_extension": ".py",
   "mimetype": "text/x-python",
   "name": "python",
   "nbconvert_exporter": "python",
   "pygments_lexer": "ipython3",
   "version": "3.8.16"
  }
 },
 "nbformat": 4,
 "nbformat_minor": 4
}
