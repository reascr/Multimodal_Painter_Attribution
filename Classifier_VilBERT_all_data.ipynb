{
 "cells": [
  {
   "cell_type": "markdown",
   "id": "f80d4786",
   "metadata": {},
   "source": [
    "**VilBERT Classifier for complete balanced data set**"
   ]
  },
  {
   "cell_type": "code",
   "execution_count": null,
   "id": "c4422220",
   "metadata": {},
   "outputs": [],
   "source": [
    "import pandas as pd\n",
    "import numpy as np\n",
    "import pickle\n",
    "import tensorflow as tf\n",
    "import torch\n",
    "from sklearn.model_selection import train_test_split\n",
    "from sklearn.preprocessing import LabelEncoder"
   ]
  },
  {
   "cell_type": "code",
   "execution_count": null,
   "id": "cf1a97f5",
   "metadata": {},
   "outputs": [],
   "source": [
    "# load data frames\n",
    "df_train = pd.read_csv('/kaggle/input/dataframes-bal/train_bal.csv')\n",
    "df_val = pd.read_csv('/kaggle/input/dataframes-bal/val_bal.csv')\n",
    "df_test = pd.read_csv('/kaggle/input/dataframes-bal/val_bal.csv')\n",
    "\n",
    "# load joint embeddings\n",
    "#with open('/kaggle/working/j_embeds_val.pkl', 'rb') as f:\n",
    "    #v_embeds_train = pickle.load(f) # was not feasible due to data size (>18 GB)\n",
    "\n",
    "print(joint_embeds_test[0].device)\n",
    "# push joint embeddings from GPU\n",
    "for tensor in joint_embeds_test:\n",
    "    tensor.to('cpu')\n",
    "# Delete the list to release memory on GPU\n",
    "del joint_embeds_test\n",
    "\n",
    "# get joint embeddings\n",
    "with open('/kaggle/working/j_embeds_train.pkl', 'rb') as f:\n",
    "    j_embeds_train = pickle.load(f) \n",
    "    \n",
    "with open('/kaggle/working/j_embeds_val.pkl', 'rb') as f:\n",
    "    j_embeds_val = pickle.load(f) \n",
    "    \n",
    "with open('/kaggle/working/j_embeds_test.pkl', 'rb') as f:\n",
    "    j_embeds_test = pickle.load(f) "
   ]
  },
  {
   "cell_type": "code",
   "execution_count": null,
   "id": "77bbc1cb",
   "metadata": {},
   "outputs": [],
   "source": [
    "X_train = torch.stack(j_embeds_train, dim=0).cpu().numpy() # wahrscheinlich zu groß für GPU...\n",
    "X_val = torch.stack(j_embeds_val, dim=0).cpu().numpy()\n",
    "X_test = torch.stack(j_embeds_test, dim=0).cpu().numpy()\n",
    "print(X_train.shape)\n",
    "print(X_val.shape, X_test.shape)"
   ]
  },
  {
   "cell_type": "code",
   "execution_count": null,
   "id": "b2ad155c",
   "metadata": {},
   "outputs": [],
   "source": [
    "#del some stuff, variables?\n",
    "torch.cuda.empty_cache()\n",
    "gc.collect()"
   ]
  },
  {
   "cell_type": "code",
   "execution_count": null,
   "id": "082169e7",
   "metadata": {},
   "outputs": [],
   "source": [
    "def stack_tensors_on_cpu(tensor_list):\n",
    "    chunk_size = 100  # Adjust this size based on your memory constraints\n",
    "    stacked_tensors = []\n",
    "    \n",
    "    for i in range(0, len(tensor_list), chunk_size):\n",
    "        chunk = tensor_list[i:i+chunk_size]\n",
    "        #stacked_chunk = torch.stack(chunk, dim=0).cpu()\n",
    "        stacked_chunk = torch.stack(chunk, dim=0)\n",
    "        stacked_tensors.append(stacked_chunk)\n",
    "        torch.cuda.empty_cache()\n",
    "        gc.collect()\n",
    "    \n",
    "    return torch.cat(stacked_tensors, dim=0)\n",
    "\n",
    "try:\n",
    "    # Convert and stack tensors on CPU\n",
    "    X_train = stack_tensors_on_cpu(j_embeds_train)\n",
    "    X_val = stack_tensors_on_cpu(j_embeds_val)\n",
    "    X_test = stack_tensors_on_cpu(j_embeds_test)\n",
    "except RuntimeError as e:\n",
    "    print(f\"RuntimeError: {e}\")\n",
    "    # Handle large tensor conversion in chunks if necessary\n",
    "    pass"
   ]
  },
  {
   "cell_type": "code",
   "execution_count": null,
   "id": "d1131e68",
   "metadata": {},
   "outputs": [],
   "source": [
    "# convert labels to numerical values\n",
    "label_encoder = LabelEncoder()\n",
    "y_train = df_train['AUTHOR'].tolist()\n",
    "y_val = df_val['AUTHOR'].tolist()\n",
    "y_test = df_test['AUTHOR'].tolist()\n",
    "\n",
    "y_train = label_encoder.fit_transform(y_train)\n",
    "y_val = label_encoder.transform(y_val)\n",
    "y_test = label_encoder.transform(y_test)\n",
    "print(y_train[:10])\n",
    "print(y_val[:10])\n",
    "print(y_test[:10])"
   ]
  },
  {
   "cell_type": "code",
   "execution_count": null,
   "id": "d0aaf194",
   "metadata": {},
   "outputs": [],
   "source": [
    "# just a check with less features\n",
    "print(type(X_train))\n",
    "print(type(X_test))\n",
    "X_train_test = X_test[:90]\n",
    "X_val_test = X_test[90:100]\n",
    "X_test_test = X_test[100:]\n",
    "\n",
    "y_train_test = y_test[:90]\n",
    "y_val_test = y_test[90:100]\n",
    "y_test_test = y_test[100:]\n",
    "\n",
    "# Define the model\n",
    "model = tf.keras.Sequential([\n",
    "    tf.keras.layers.Input(shape=(612, 768)),\n",
    "    tf.keras.layers.Flatten(),\n",
    "    tf.keras.layers.Dense(64, activation='relu'), # 132, 64\n",
    "    tf.keras.layers.Dense(32, activation='relu'),\n",
    "    tf.keras.layers.Dense(10, activation='softmax')\n",
    "])\n",
    "\n",
    "# Compile the model\n",
    "model.compile(optimizer='adam',\n",
    "              loss='sparse_categorical_crossentropy', \n",
    "              metrics=['accuracy'])\n",
    "\n",
    "# Train the model\n",
    "history = model.fit(X_train_test, y_train_test, epochs=10, batch_size=16, validation_data=(X_val_test, y_val_test))\n",
    "\n",
    "# Evaluate on validation set\n",
    "val_loss, val_accuracy = model.evaluate(X_val_test, y_val_test)\n",
    "print(f'Validation Loss: {val_loss}, Validation Accuracy: {val_accuracy}')\n",
    "\n",
    "# Evaluate on test set\n",
    "test_loss, test_accuracy = model.evaluate(X_test_test, y_test_test)\n",
    "print(f'Test Loss: {test_loss}, Test Accuracy: {test_accuracy}')\n"
   ]
  },
  {
   "cell_type": "code",
   "execution_count": null,
   "id": "29f836ab",
   "metadata": {},
   "outputs": [],
   "source": [
    "import matplotlib.pyplot as plt\n",
    "\n",
    "# Plotting the training and validation loss and accuracy\n",
    "plt.figure(figsize=(12, 5))\n",
    "\n",
    "# Plot loss\n",
    "plt.subplot(1, 2, 1)\n",
    "plt.plot(history.history['loss'], 'cyan', label='Training Loss')\n",
    "plt.plot(history.history['val_loss'], 'magenta', label='Validation Loss')\n",
    "plt.title('Training and Validation Loss')\n",
    "plt.xlabel('Epochs')\n",
    "plt.ylabel('Loss')\n",
    "plt.legend()\n",
    "\n",
    "# Plot accuracy\n",
    "plt.subplot(1, 2, 2)\n",
    "plt.plot(history.history['accuracy'], 'cyan', label='Training Accuracy')\n",
    "plt.plot(history.history['val_accuracy'], 'magenta', label='Validation Accuracy')\n",
    "plt.title('Training and Validation Accuracy')\n",
    "plt.xlabel('Epochs')\n",
    "plt.ylabel('Accuracy')\n",
    "plt.legend()\n",
    "\n",
    "plt.show()"
   ]
  }
 ],
 "metadata": {
  "kernelspec": {
   "display_name": "Python 3 (ipykernel)",
   "language": "python",
   "name": "python3"
  },
  "language_info": {
   "codemirror_mode": {
    "name": "ipython",
    "version": 3
   },
   "file_extension": ".py",
   "mimetype": "text/x-python",
   "name": "python",
   "nbconvert_exporter": "python",
   "pygments_lexer": "ipython3",
   "version": "3.8.16"
  }
 },
 "nbformat": 4,
 "nbformat_minor": 5
}
